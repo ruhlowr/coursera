{
    "nbformat_minor": 1, 
    "cells": [
        {
            "source": "# My Jupiter Notebook on IBM Data Science Experience", 
            "cell_type": "markdown", 
            "metadata": {
                "collapsed": true
            }
        }, 
        {
            "source": "**Randy Ruhlow**\nSenior Managing Consultant - IBM", 
            "cell_type": "markdown", 
            "metadata": {}
        }, 
        {
            "source": "*The organization I work for is developing consulting practices around IBM's Cognitive offerings on Power Systems.  I will be one of the consultants responsible for\nenabling client Data Scientists with Power Systems Cognitive toolsets.  This looks to be a promising and exciting domain for a consulting career.*", 
            "cell_type": "markdown", 
            "metadata": {}
        }, 
        {
            "execution_count": null, 
            "cell_type": "code", 
            "metadata": {}, 
            "outputs": [], 
            "source": ""
        }
    ], 
    "metadata": {
        "kernelspec": {
            "display_name": "Python 3.5 with Spark", 
            "name": "python3", 
            "language": "python3"
        }, 
        "language_info": {
            "mimetype": "text/x-python", 
            "nbconvert_exporter": "python", 
            "version": "3.5.4", 
            "name": "python", 
            "file_extension": ".py", 
            "pygments_lexer": "ipython3", 
            "codemirror_mode": {
                "version": 3, 
                "name": "ipython"
            }
        }
    }, 
    "nbformat": 4
}