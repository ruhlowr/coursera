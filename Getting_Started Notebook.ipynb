{
    "nbformat_minor": 1, 
    "cells": [
        {
            "source": "# My Jupiter Notebook on IBM Data Science Experience", 
            "cell_type": "markdown", 
            "metadata": {
                "collapsed": true
            }
        }, 
        {
            "source": "**Randy Ruhlow**\nSenior Managing Consultant - IBM", 
            "cell_type": "markdown", 
            "metadata": {}
        }, 
        {
            "source": "*The organization I work for is developing consulting practices around IBM's Cognitive offerings on Power Systems.  I will be one of the consultants responsible for\nenabling client Data Scientists with Power Systems Cognitive toolsets.  This looks to be a promising and exciting domain for a consulting career.*", 
            "cell_type": "markdown", 
            "metadata": {}
        }, 
        {
            "source": "### The code in the cell below aligns the rest of this notebooks output to the left.", 
            "cell_type": "markdown", 
            "metadata": {}
        }, 
        {
            "source": "%%html\n<style>\ntable {float:left}\n</style>", 
            "cell_type": "code", 
            "metadata": {}, 
            "outputs": [
                {
                    "output_type": "display_data", 
                    "data": {
                        "text/plain": "<IPython.core.display.HTML object>", 
                        "text/html": "<style>\ntable {float:left}\n</style>"
                    }, 
                    "metadata": {}
                }
            ], 
            "execution_count": 20
        }, 
        {
            "source": "### This Section includes the following requirements\n***\n1. Horizontal Rule\n1. An Ordered List\n1. A Table \n1. Link to my publicly shared notebook [Notebook][1].\n1. Link to my github repository\n\n[1]: https://dataplatform.cloud.ibm.com/analytics/notebooks/v2/f735ae69-f62e-4a03-8d50-89c66ccde6b5/view?access_token=b9c88048f49f3fb12aee597f70eb3417e15e4c3d18cec1e3ae9180535980bf04  \"Notebook\"\n\n| Week|Status|\n| :------------ | ------------- |\n| Week 1  | Completed           |\n| Week 2  | Completed           |\n| Week 3  | In Progress         |\n\n", 
            "cell_type": "markdown", 
            "metadata": {}
        }
    ], 
    "metadata": {
        "kernelspec": {
            "display_name": "Python 3.5 with Spark", 
            "name": "python3", 
            "language": "python3"
        }, 
        "language_info": {
            "mimetype": "text/x-python", 
            "nbconvert_exporter": "python", 
            "version": "3.5.4", 
            "name": "python", 
            "pygments_lexer": "ipython3", 
            "file_extension": ".py", 
            "codemirror_mode": {
                "version": 3, 
                "name": "ipython"
            }
        }
    }, 
    "nbformat": 4
}